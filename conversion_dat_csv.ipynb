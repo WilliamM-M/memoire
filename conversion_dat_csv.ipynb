{
 "cells": [
  {
   "cell_type": "code",
   "execution_count": 4,
   "id": "b5da3ddb",
   "metadata": {},
   "outputs": [
    {
     "name": "stdout",
     "output_type": "stream",
     "text": [
      "Conversion du fichier .dat en format CSV terminée.\n"
     ]
    }
   ],
   "source": [
    "import numpy as np\n",
    "import csv\n",
    "\n",
    "# Chemin vers le fichier .dat\n",
    "chemin_fichier_dat = \"106.dat\"\n",
    "\n",
    "# Lire les données du fichier .dat\n",
    "donnees_ecg = np.fromfile(chemin_fichier_dat, dtype=np.float32)\n",
    "\n",
    "# Spécifier la fréquence d'échantillonnage (à modifier selon votre cas)\n",
    "frequence_echantillonnage = 360 # Exemple : 1000 échantillons par seconde\n",
    "\n",
    "# Définir les informations pour l'écriture du fichier CSV\n",
    "chemin_fichier_csv = \"106.csv\"\n",
    "entetes = [\"Valeur\"]  # Entêtes des colonnes du fichier CSV\n",
    "\n",
    "# Ouvrir le fichier CSV en mode écriture\n",
    "with open(chemin_fichier_csv, \"a\", newline=\"\") as fichier_csv:\n",
    "    writer = csv.writer(fichier_csv)\n",
    "    \n",
    "    # Écrire les entêtes dans le fichier CSV\n",
    "    writer.writerow(entetes)\n",
    "    \n",
    "    # Écrire les données dans le fichier CSV\n",
    "    for i, valeur in enumerate(donnees_ecg):\n",
    "        ##temps = i / frequence_echantillonnage  # Calculer le temps correspondant\n",
    "        writer.writerow([valeur])\n",
    "        \n",
    "print(\"Conversion du fichier .dat en format CSV terminée.\")\n"
   ]
  },
  {
   "cell_type": "code",
   "execution_count": null,
   "id": "2283a36d",
   "metadata": {},
   "outputs": [],
   "source": []
  }
 ],
 "metadata": {
  "kernelspec": {
   "display_name": "Python 3 (ipykernel)",
   "language": "python",
   "name": "python3"
  },
  "language_info": {
   "codemirror_mode": {
    "name": "ipython",
    "version": 3
   },
   "file_extension": ".py",
   "mimetype": "text/x-python",
   "name": "python",
   "nbconvert_exporter": "python",
   "pygments_lexer": "ipython3",
   "version": "3.10.9"
  }
 },
 "nbformat": 4,
 "nbformat_minor": 5
}
